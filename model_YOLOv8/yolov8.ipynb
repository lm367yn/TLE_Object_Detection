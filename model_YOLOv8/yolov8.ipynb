{
 "cells": [
  {
   "cell_type": "markdown",
   "id": "50289be3-e830-48e0-824d-7b9a92b2d3b6",
   "metadata": {},
   "source": [
    "# Automatická detekcia TLE na snímkach AMOS pomocou hlbokého učenia NN YOLOv8\n",
    "\n",
    "### Príprava prostredia\n",
    "\n",
    "Príkazy na inštaláciu: \n",
    "* potrebných knižníc yolov8\n",
    "* požiadaviek na yolov8\n",
    "* synchronizácia s open source platformou, ktorá poskytuje UI pre sledovanie ML (machine learning) experimentov"
   ]
  },
  {
   "cell_type": "code",
   "execution_count": null,
   "id": "b8619f4e-e4bb-41c7-bef6-b4985caf75cb",
   "metadata": {},
   "outputs": [],
   "source": [
    "!pip install ultralytics\n",
    "!pip install clearml\n",
    "!pip install -r requirements.txt\n",
    "\n",
    "%env CLEARML_WEB_HOST=https://app.clear.ml\n",
    "%env CLEARML_API_HOST=https://api.clear.ml\n",
    "%env CLEARML_FILES_HOST=https://files.clear.ml\n",
    "%env CLEARML_API_ACCESS_KEY=JAD53FE0NSCTRN9CDXAR\n",
    "%env CLEARML_API_SECRET_KEY=4MMrcYl457nAVZolLxRMF7c3uCyUTkhSm3AQ3CIzvFMlPrbuQb"
   ]
  },
  {
   "cell_type": "markdown",
   "id": "9794eb10-9fa2-4bbe-9722-0b953e4c20b3",
   "metadata": {},
   "source": [
    "### Trénovanie modelu\n",
    "\n",
    "Príkaz na spustenie trénovania\n",
    "\n",
    "* **!yolo**: volanie skupiny YOLO príkazov,\n",
    "* **task=detect**: nastavenie použitia modelu YOLO na identifikáciu a lokalizáciu objektov alebo oblastí záujmu na snímkach,\n",
    "* **mode=train**: nastavenie trénovania modelu YOLOv8 na vlastnom súbore údajov,\n",
    "* **model=yolov8s.pt**: definovanie cesty k modelu, ktorý bol použitý na trénovanie,\n",
    "* **data**: parameter obsahuje cestu k YAML súboru, ktorý obsahuje cestu k trénovacím a validačným údajom spolu s názvami tried,\n",
    "* **epochs**: zadanie počtu epoch (tréning neurónovej siete so všetkými tréningovými údajmi pre jeden cyklus),\n",
    "* **batch**: počet vzoriek, ktoré sa počas trénovania vložia do jednej série,\n",
    "* **workers**: počet použitých jadier procesora,\n",
    "* **img**: veľkosť obrazu upravená pred jeho vstupom do siete,\n",
    "* **rect=True**: argument umožní trénovanie obdĺžnikového obrazu,\n",
    "* **plots=True**: uloženie obrázkov s vykresleným ohraničujúcim poľom,\n",
    "* **save_period**: uloženie každej N epochy,\n",
    "* **show_conf=True**: nastavenie povolí zobrazenie skóre dôveryhodnosti objektu vo výstupných obrazoch,\n",
    "* **name**: názov priečinka, do ktorého sa uložia záznamy o trénovaní,"
   ]
  },
  {
   "cell_type": "code",
   "execution_count": null,
   "id": "e775ffc8-d82b-4a68-ba9e-7feef9c1d94b",
   "metadata": {},
   "outputs": [],
   "source": [
    "#yolov8 train\n",
    "!yolo task=detect \n",
    "mode=train \n",
    "model=yolov8s.pt \n",
    "data=/home/jovyan/data/lightning/LiviaMurankova/YOLOv8/information_about_data10.yaml\n",
    "epochs=300 \n",
    "batch=10 \n",
    "workers=0 \n",
    "imgsz=1280 \n",
    "rect=True \n",
    "plots=True \n",
    "save_period=10 \n",
    "name=train10_DATA_FOR_YOLO10"
   ]
  },
  {
   "cell_type": "markdown",
   "id": "6f1c4cd2-c86d-40ca-a58b-ad18b4135e0e",
   "metadata": {},
   "source": [
    "### Testovanie modelu\n",
    "\n",
    "Príkaz na spustenie testovania\n",
    "\n",
    "* **!yolo**: volanie skupiny YOLO príkazov,\n",
    "* **task=detect**: nastavenie použitia modelu YOLO na identifikáciu a lokalizáciu objektov alebo oblastí záujmu na snímkach,\n",
    "* **mode=predict**: v režime predikcií zabezpečíme vytváranie predpovedí,\n",
    "* **model=yolov8s.pt**: definovanie cesty k modelu, ktorý bol použitý na testovanie,\n",
    "* **source**: cesta k textovému súboru so zdrojovými adresami všetkých obrázkov tvoriacich testovaciu sadu,\n",
    "* **img**: veľkosť obrazu upravená pred jeho vstupom do siete,\n",
    "* **iou**: prah priesečníka nad zjednotením (podiel skutočného ohraničujúceho poľa ku predpovedanému),\n",
    "* **conf**: skóre dôveryhodnosti; minimálna pravdepodobnosť, s akou algoritmus správne deteguje objekt,\n",
    "* **save=True**: uloženie obrázkov s výsledkami,\n",
    "* **save_txt=True**: uloženie výsledkov testovania do rovnomenných textových súborov,\n",
    "* **save-conf**: príznak pre zapísanie skóre dôveryhodnosti detekcie daného objektu na koniec riadku textového súboru\n",
    "* **name**: názov priečinka, do ktorého sa uložia záznamy o testovaní,"
   ]
  },
  {
   "cell_type": "code",
   "execution_count": null,
   "id": "b1361446-c645-4153-b34f-b817adc683fb",
   "metadata": {},
   "outputs": [],
   "source": [
    "!yolo task=detect \n",
    "mode=predict \n",
    "model=runs/train10_DATA_FOR_YOLO10/weights/best.pt \n",
    "source=DATA_SPLIT_FOR_YOLO10/test/images\n",
    "imgsz=1280 \n",
    "iou=0.30 \n",
    "conf=0.45\n",
    "save=True \n",
    "save_conf=True \n",
    "save_txt=True \n",
    "save_crop=True \n",
    "name=predict10_DATA_FOR_YOLO10"
   ]
  },
  {
   "cell_type": "code",
   "execution_count": null,
   "id": "38b836d6-040d-4216-a360-57f3c30e2138",
   "metadata": {},
   "outputs": [],
   "source": []
  }
 ],
 "metadata": {
  "kernelspec": {
   "display_name": "Python 3 (ipykernel)",
   "language": "python",
   "name": "python3"
  },
  "language_info": {
   "codemirror_mode": {
    "name": "ipython",
    "version": 3
   },
   "file_extension": ".py",
   "mimetype": "text/x-python",
   "name": "python",
   "nbconvert_exporter": "python",
   "pygments_lexer": "ipython3",
   "version": "3.10.6"
  }
 },
 "nbformat": 4,
 "nbformat_minor": 5
}
