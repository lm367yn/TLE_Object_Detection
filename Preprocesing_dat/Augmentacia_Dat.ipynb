{
 "cells": [
  {
   "cell_type": "markdown",
   "id": "58a57716-53eb-4ef2-9298-901eddd891ad",
   "metadata": {},
   "source": [
    "# Augmentácia dát\n",
    "\n",
    "Inštalácia potrebných knižníc"
   ]
  },
  {
   "cell_type": "code",
   "execution_count": 1,
   "id": "ec4ba11f-9080-4172-8c7a-a618dff577b1",
   "metadata": {},
   "outputs": [],
   "source": [
    "!pip install opencv-python"
   ]
  },
  {
   "cell_type": "markdown",
   "id": "2956e72b-f4cb-4d36-b7f3-ba8d8c859b99",
   "metadata": {},
   "source": [
    "## Zadefinovanie vlastných funkcií\n",
    "\n",
    "Funkcia na vytvorenie jednoriadkového textového súboru, ktorý obsahuje informácie o ohraničujúcom polí (bounding box)\n",
    "* **file_name**: názov súboru\n",
    "* **_**: označenie triedy\n",
    "* **x**: x-ová súradnica ohraničujúceho poľa\n",
    "* **y**: y-ová súradnica ohraničujúceho poľa\n",
    "* **width**: šírka ohraničujúceho poľa\n",
    "* **height**: výška ohraničujúceho poľa"
   ]
  },
  {
   "cell_type": "code",
   "execution_count": 1,
   "id": "dbb669be-1a8c-4122-86d8-b291f8dee741",
   "metadata": {},
   "outputs": [],
   "source": [
    "def create_txt_file(file_name, _, x, y, width, height):\n",
    "    \n",
    "    txt_file_name = file_name + '.txt'\n",
    "    txt_file = open(txt_file_name,\"w+\")\n",
    "    txt_file.write('{} {} {} {} {}\\n'.format(int(_), float(x), float(y), float(width), float(height)))\n",
    "    txt_file.close()"
   ]
  },
  {
   "cell_type": "markdown",
   "id": "af9a68f4-57f3-4452-a407-f2d14bb871d9",
   "metadata": {},
   "source": [
    "Funkcia na vyselektovanie názvu súboru z celej directory path"
   ]
  },
  {
   "cell_type": "code",
   "execution_count": 2,
   "id": "cd7d91db-ca5e-473d-a615-cfae8034fa63",
   "metadata": {},
   "outputs": [],
   "source": [
    "def get_file_name(file_with_directory, input_directory):\n",
    "    \n",
    "    directory_lengt = len(input_directory) + 1\n",
    "    file_name_length = len(file_with_directory)\n",
    "    return file_with_directory[directory_lengt:file_name_length-4]"
   ]
  },
  {
   "cell_type": "markdown",
   "id": "8cc632a7-a0b8-4c16-8690-e3a7be49879f",
   "metadata": {},
   "source": [
    "## Horizontálne obrátenie obrázkov ⬅️➡️"
   ]
  },
  {
   "cell_type": "markdown",
   "id": "71736cd2-4019-44e0-8c81-f39358768b85",
   "metadata": {},
   "source": [
    "Definovanie vstupných a výstupných ciest k adresárom"
   ]
  },
  {
   "cell_type": "code",
   "execution_count": 4,
   "id": "811428b7-bc96-41f8-aaa8-0845706f9a35",
   "metadata": {},
   "outputs": [],
   "source": [
    "in_tp_dir = '/home/jovyan/data/lightning/LiviaMurankova/DATA/new/New_TP/images'\n",
    "in_tp_txt_dir = '/home/jovyan/data/lightning/LiviaMurankova/DATA/new/New_TP/txt'\n",
    "\n",
    "out_hflip_dir = '/home/jovyan/data/lightning/LiviaMurankova/DATA/new/New_Augmented_Data/New_Horizontal_Flip/images'\n",
    "out_hflip_txt_dir = '/home/jovyan/data/lightning/LiviaMurankova/DATA/new/New_Augmented_Data/New_Horizontal_Flip/txt'"
   ]
  },
  {
   "cell_type": "markdown",
   "id": "0a848bd9-e48d-4cd7-a8af-6bfbadc78307",
   "metadata": {},
   "source": [
    "Uloženie názvov obrazových a textových súborov z jedného priečinka do premenných"
   ]
  },
  {
   "cell_type": "code",
   "execution_count": null,
   "id": "95fea67b-39e5-4d83-b6f4-2be38a656ad7",
   "metadata": {},
   "outputs": [],
   "source": [
    "from glob import glob\n",
    "import random\n",
    "\n",
    "random.seed(1234)\n",
    "\n",
    "# images\n",
    "tp_infiles = in_tp_dir + '/*'\n",
    "tp_names = glob(tp_infiles)\n",
    "tp_names.remove(in_tp_dir + '/' + 'Thumbs.db')\n",
    "\n",
    "print(len(tp_names))\n",
    "print(random.sample(tp_names, 5))\n",
    "\n",
    "# text files\n",
    "txt_infiles = in_tp_txt_dir + '/*'\n",
    "txt_names = glob(txt_infiles)\n",
    "\n",
    "print(len(txt_names))\n",
    "print(random.sample(txt_names, 5))"
   ]
  },
  {
   "cell_type": "markdown",
   "id": "6399d46e-0aca-4f24-8eab-48b45c17aff3",
   "metadata": {},
   "source": [
    "Funkcia, ktorá prepočíta súradnice ohraničujúceho poľa pri horizontálnom preklopení obrázka"
   ]
  },
  {
   "cell_type": "code",
   "execution_count": 7,
   "id": "215a7a4d-bc35-47ef-82c2-552d3e261feb",
   "metadata": {},
   "outputs": [],
   "source": [
    "# Read .txt file && recalculate normalized x-coordinate\n",
    "\n",
    "def recalculate_hflippedimage_coordinates(txt_file_name):\n",
    "    file = open(txt_file_name, 'r')\n",
    "    line = file.readline()\n",
    "    file.close()\n",
    "    _, center_x, center_y, width, height = line.split()\n",
    "    #type(x)\n",
    "    \n",
    "    # the size of the original image\n",
    "    bg_image = cv2.imread(random.choice(tp_names))\n",
    "    bg_h, bg_w, bg_channel = bg_image.shape\n",
    "    #print(bg_h, bg_w, bg_channel)\n",
    "\n",
    "    center_x1=round(1-float(center_x),5)\n",
    "    #print(x1)\n",
    "\n",
    "    return [_,center_x1,center_y,width,height]"
   ]
  },
  {
   "cell_type": "markdown",
   "id": "cb6219fa-5e79-4072-9f76-84ae202bd742",
   "metadata": {},
   "source": [
    "**Algoritmus na vytváranie kópii horizontálne preklopených obrázkov a prepočítanie nových súradníc ohraničujúceho poľa**"
   ]
  },
  {
   "cell_type": "code",
   "execution_count": 8,
   "id": "aaee66e6-a791-4ac6-b036-2a96ac5c29ea",
   "metadata": {},
   "outputs": [],
   "source": [
    "import cv2\n",
    "\n",
    "# loop over each input image\n",
    "for file_name in tp_names:\n",
    "\n",
    "    # h-flip image\n",
    "    image = cv2.imread(file_name)\n",
    "    flippedImage = cv2.flip(image, 1)\n",
    "    \n",
    "    imageName = get_file_name(file_name, in_tp_dir)\n",
    "    flippedImageDirectory = out_hflip_dir + \"/\" + \"hf_\" + imageName + '.jpg'\n",
    "    \n",
    "    cv2.imwrite(flippedImageDirectory, flippedImage)\n",
    "    \n",
    "    # create .txt with coords for the h-flipped image\n",
    "    imageName_with_dot = imageName + '.'\n",
    "    for txt in txt_names:\n",
    "        if imageName_with_dot in txt:\n",
    "            tpImage_txt_file = txt\n",
    "    \n",
    "    # coordinates in list: [class, x1, y, width, height]\n",
    "    coordinates = recalculate_hflippedimage_coordinates(tpImage_txt_file)\n",
    "    #print(coordinates)\n",
    "\n",
    "    txt_path_and_matching_img_name = out_hflip_txt_dir + '/' + \"hf_\" + imageName\n",
    "    create_txt_file(txt_path_and_matching_img_name, coordinates[0], coordinates[1], coordinates[2], coordinates[3], coordinates[4])"
   ]
  },
  {
   "cell_type": "markdown",
   "id": "19d219de-fbbc-49e4-9474-5c55313a2529",
   "metadata": {},
   "source": [
    "## Vertikálne obrátenie obrázkov ⬆️⬇️\n",
    "\n",
    "Definovanie vstupných a výstupných ciest k adresárom"
   ]
  },
  {
   "cell_type": "code",
   "execution_count": 14,
   "id": "bc4b4c47-790c-46eb-946f-6a47a761d437",
   "metadata": {},
   "outputs": [],
   "source": [
    "in_tp_dir = '/home/jovyan/data/lightning/LiviaMurankova/DATA/new/New_TP/images'\n",
    "in_tp_txt_dir = '/home/jovyan/data/lightning/LiviaMurankova/DATA/new/New_TP/txt'\n",
    "\n",
    "out_vflip_dir = '/home/jovyan/data/lightning/LiviaMurankova/DATA/new/New_Augmented_Data/New_Vertical_Flip/images'\n",
    "out_vflip_txt_dir = '/home/jovyan/data/lightning/LiviaMurankova/DATA/new/New_Augmented_Data/New_Vertical_Flip/txt'"
   ]
  },
  {
   "cell_type": "markdown",
   "id": "fa6021dc-571b-4b21-8170-693af9edbc7a",
   "metadata": {},
   "source": [
    "Uloženie názvov obrazových a textových súborov z jedného priečinka do premenných"
   ]
  },
  {
   "cell_type": "code",
   "execution_count": null,
   "id": "5375d5b6-ceaa-4afe-886b-b85b3c592031",
   "metadata": {},
   "outputs": [],
   "source": [
    "from glob import glob\n",
    "import random\n",
    "\n",
    "random.seed(1234)\n",
    "\n",
    "# read images into list\n",
    "tp_infiles = in_tp_dir + '/*'\n",
    "tp_names = glob(tp_infiles)\n",
    "tp_names.remove(in_tp_dir + '/' + 'Thumbs.db')\n",
    "\n",
    "print(len(tp_names))\n",
    "print(random.sample(tp_names, 5))\n",
    "\n",
    "# read txt files for images with TLE's normalized coords into list\n",
    "txt_infiles = in_tp_txt_dir + '/*'\n",
    "txt_names = glob(txt_infiles)\n",
    "\n",
    "print(len(txt_names))\n",
    "print(random.sample(txt_names, 5))"
   ]
  },
  {
   "cell_type": "markdown",
   "id": "310663af-9efc-42e2-8aa1-05683695aeea",
   "metadata": {},
   "source": [
    "Funkcia, ktorá prepočíta súradnice ohraničujúceho poľa pri vertikálnom preklopení obrázka"
   ]
  },
  {
   "cell_type": "code",
   "execution_count": 13,
   "id": "aa547a6f-0005-4bf9-ac82-6be992b8dde1",
   "metadata": {},
   "outputs": [],
   "source": [
    "# Read .txt file && recalculate normalized y-coordinate\n",
    "\n",
    "def recalculate_vflippedimage_coordinates(txt_file_name):\n",
    "    file = open(txt_file_name, 'r')\n",
    "    line = file.readline()\n",
    "    file.close()\n",
    "    _, center_x, center_y, width, height = line.split()\n",
    "    #type(x)\n",
    "    \n",
    "    # the size of the original image\n",
    "    bg_image = cv2.imread(random.choice(tp_names))\n",
    "    bg_h, bg_w, bg_channel = bg_image.shape\n",
    "    #print(bg_h, bg_w, bg_channel)\n",
    "\n",
    "    center_y1=round(1-float(center_y),5)\n",
    "    #print(center_y1)\n",
    "\n",
    "    return [_,center_x,center_y1,width,height]"
   ]
  },
  {
   "cell_type": "markdown",
   "id": "000597d2-2db4-4afd-87da-a412e90e1b20",
   "metadata": {},
   "source": [
    "**Algoritmus na vytváranie kópii vertikálne preklopených obrázkov a prepočítanie nových súradníc ohraničujúceho poľa**"
   ]
  },
  {
   "cell_type": "code",
   "execution_count": 15,
   "id": "5788c50f-bfe9-40c6-9d5e-518f33dab719",
   "metadata": {},
   "outputs": [],
   "source": [
    "import cv2\n",
    "\n",
    "# loop over each input image\n",
    "for file_name in tp_names:\n",
    "\n",
    "    # v-flip image\n",
    "    image = cv2.imread(file_name)\n",
    "    flippedImage = cv2.flip(image, 0)\n",
    "    \n",
    "    imageName = get_file_name(file_name, in_tp_dir)\n",
    "    flippedImageDirectory = out_vflip_dir + \"/\" + \"vf_\" + imageName + '.jpg'\n",
    "\n",
    "    cv2.imwrite(flippedImageDirectory, flippedImage)\n",
    "    \n",
    "    # create .txt with coords for the v-flipped image\n",
    "    imageName_with_dot = imageName + '.'\n",
    "    for txt in txt_names:\n",
    "        if imageName_with_dot in txt:\n",
    "            tpImage_txt_file = txt\n",
    "    \n",
    "    # coordinates in list: [class, x, y1, width, height]\n",
    "    coordinates = recalculate_vflippedimage_coordinates(tpImage_txt_file)\n",
    "    #print(coordinates)\n",
    "    \n",
    "    txt_path_and_matching_img_name = out_vflip_txt_dir + '/' + \"vf_\" + imageName\n",
    "    create_txt_file(txt_path_and_matching_img_name, coordinates[0], coordinates[1], coordinates[2], coordinates[3], coordinates[4])"
   ]
  },
  {
   "cell_type": "markdown",
   "id": "a23ef503-04c4-489a-972e-f69b4981f539",
   "metadata": {},
   "source": [
    "## Umiestňovanie vysegmentovaných javov na iné obrázky 🌠\n",
    "\n",
    "Import potrebných knižníc"
   ]
  },
  {
   "cell_type": "code",
   "execution_count": 1,
   "id": "d871aa2c-57ff-470f-aa27-c359aa1d77a8",
   "metadata": {},
   "outputs": [],
   "source": [
    "from skimage import data, io, transform\n",
    "import numpy as np\n",
    "import matplotlib.pyplot as plt\n",
    "#import glob\n",
    "from glob import glob\n",
    "import random\n",
    "import shutil"
   ]
  },
  {
   "cell_type": "markdown",
   "id": "0b20b2f4-cddb-4599-86df-5a8732e00a82",
   "metadata": {},
   "source": [
    "Definovanie vstupných a výstupných ciest k adresárom"
   ]
  },
  {
   "cell_type": "code",
   "execution_count": null,
   "id": "9580a1f1-d42b-4397-a5a7-9f7f65e8eb86",
   "metadata": {},
   "outputs": [],
   "source": [
    "event_dir = 'events/events_without_background'\n",
    "background_dir = 'tp_tn_fp/TN'\n",
    "txt_event_dir = 'events/txt'\n",
    "tn_in_dir = 'tp_tn_fp/TN'\n",
    "\n",
    "out_dir = 'Synthetic_data/images'\n",
    "out_dir_txt = 'Synthetic_data/txt'"
   ]
  },
  {
   "cell_type": "markdown",
   "id": "c4ab4e40-3502-4d46-9c33-c74366f3b64c",
   "metadata": {},
   "source": [
    "Uloženie názvov obrazových a textových súborov z jedného priečinka do premenných"
   ]
  },
  {
   "cell_type": "code",
   "execution_count": null,
   "id": "ba8b2f47-2a00-49a4-a3fa-9b982bf76f33",
   "metadata": {},
   "outputs": [],
   "source": [
    "# read segmented transparent events into list\n",
    " \n",
    "img_names = []\n",
    "infiles = event_dir + '/*'\n",
    "img_names = glob(infiles)\n",
    "img_names.remove('events/events_without_background/Thumbs.db')\n",
    "\n",
    "print(len(img_names))\n",
    "print(random.sample(img_names, 5))\n",
    "\n",
    "# read txt files with TLE's normalized coords into list\n",
    "txt_infiles = txt_event_dir + '/*'\n",
    "txt_names = glob(txt_infiles)\n",
    "\n",
    "print(len(txt_names))\n",
    "print(random.sample(txt_names, 5))\n",
    "\n",
    "# read background images into list\n",
    "tn_infiles = background_dir + '/*'\n",
    "tn_names = glob(tn_infiles)\n",
    "\n",
    "print(len(tn_names))\n",
    "print(random.sample(tn_names, 5))"
   ]
  },
  {
   "cell_type": "markdown",
   "id": "911590c1-a393-42f4-885d-98c14ad64937",
   "metadata": {},
   "source": [
    "**Definovanie vlastných metód**\n",
    "\n",
    "Funkcia na vyselektovanie názvu súboru z celej directory path"
   ]
  },
  {
   "cell_type": "code",
   "execution_count": 34,
   "id": "486b7bb8-1db2-4701-9165-930f9b4c46f4",
   "metadata": {},
   "outputs": [],
   "source": [
    "# file name without directory path\n",
    "\n",
    "def get_file_name(file_with_directory,directory):\n",
    "    directory_lengt = len(directory) + 1\n",
    "    file_name_length = len(file_with_directory)\n",
    "    return file_with_directory[directory_lengt:file_name_length-3] # ponechat bodku v nazve"
   ]
  },
  {
   "cell_type": "markdown",
   "id": "6bece121-1a2c-4d4d-a6bc-50c6d57d3d45",
   "metadata": {},
   "source": [
    "Funkcia, ktorá prepočíta súradnice z normalizovaného tvaru (pre YOLO algoritmus)"
   ]
  },
  {
   "cell_type": "code",
   "execution_count": 35,
   "id": "0b30d97b-2e9c-454f-bbfe-e5b7bf0e3218",
   "metadata": {},
   "outputs": [],
   "source": [
    "# Read .txt file && recalculate normalized coordinates\n",
    "\n",
    "random.seed(1234)\n",
    "\n",
    "def recalculate_normalized_coordinates(txt_file_name):\n",
    "    file = open(txt_file_name, 'r')\n",
    "    line = file.readline()\n",
    "    file.close()\n",
    "    _, x, y, width, height = line.split()\n",
    "    #type(x)\n",
    "    \n",
    "    # the size of the original image\n",
    "    bg_image = cv2.imread(random.choice(tn_names))\n",
    "    bg_h, bg_w, bg_channel = bg_image.shape\n",
    "    #print(bg_h, bg_w, bg_channel)\n",
    "\n",
    "    x=float(x)*bg_w\n",
    "    y=float(y)*bg_h\n",
    "    width=float(width)*bg_w\n",
    "    height=float(height)*bg_h\n",
    "\n",
    "    return [x, y, width, height]"
   ]
  },
  {
   "cell_type": "markdown",
   "id": "56d60183-872c-4623-a564-6320dec6a5af",
   "metadata": {},
   "source": [
    "Funkcia, ktorá zabezpečí umiestnenie jedného obrázka na druhý, na konkrétne súradnice"
   ]
  },
  {
   "cell_type": "code",
   "execution_count": 36,
   "id": "cb9a81c4-296d-4559-9b75-0c10a9567ecd",
   "metadata": {},
   "outputs": [],
   "source": [
    "# Merge images\n",
    "\n",
    "def overlay_image_alpha(img, img_overlay, x, y, alpha_mask, file_name):\n",
    "    \n",
    "    \"\"\"Overlay `img_overlay` onto `img` at (x, y) and blend using `alpha_mask`.\n",
    "\n",
    "    `alpha_mask` must have same HxW as `img_overlay` and values in range [0, 1].\n",
    "    \"\"\"\n",
    "    # Image ranges\n",
    "    y1, y2 = max(0, y), min(img.shape[0], y + img_overlay.shape[0])\n",
    "    x1, x2 = max(0, x), min(img.shape[1], x + img_overlay.shape[1])\n",
    "    #print(x1, y1, x2, y2)\n",
    "    \n",
    "    # Create .txt file with recalculated coords\n",
    "    #create_txt_file(file_name, x1, y1, x2, y2)\n",
    "\n",
    "    # Overlay ranges\n",
    "    y1o, y2o = max(0, -y), min(img_overlay.shape[0], img.shape[0] - y)\n",
    "    x1o, x2o = max(0, -x), min(img_overlay.shape[1], img.shape[1] - x)\n",
    "\n",
    "    # Exit if nothing to do\n",
    "    if y1 >= y2 or x1 >= x2 or y1o >= y2o or x1o >= x2o:\n",
    "        return\n",
    "\n",
    "    # Blend overlay within the determined ranges\n",
    "    img_crop = img[y1:y2, x1:x2]\n",
    "    img_overlay_crop = img_overlay[y1o:y2o, x1o:x2o]\n",
    "    alpha = alpha_mask[y1o:y2o, x1o:x2o, np.newaxis]\n",
    "    alpha_inv = 1.0 - alpha\n",
    "\n",
    "    img_crop[:] = alpha * img_overlay_crop + alpha_inv * img_crop"
   ]
  },
  {
   "cell_type": "markdown",
   "id": "60c5bc34-f231-4338-8f90-3b675eaa1689",
   "metadata": {},
   "source": [
    "**Algoritmus na umiestňovaní segmentovaných častí obrázkov na iné obrázky**"
   ]
  },
  {
   "cell_type": "code",
   "execution_count": 38,
   "id": "61d5709c-d817-4129-98de-53676d0a8df2",
   "metadata": {},
   "outputs": [],
   "source": [
    "# merging images algoritm\n",
    "\n",
    "import numpy as np\n",
    "from PIL import Image\n",
    "import itertools\n",
    "import random\n",
    "import cv2\n",
    "import shutil\n",
    "\n",
    "# get the same random output when running code more times\n",
    "random.seed(1234)\n",
    "\n",
    "for image in img_names:\n",
    "    background = random.choice(tn_names)\n",
    "    background_name = get_file_name(background,background_dir)\n",
    "    event = image\n",
    "    event_name = get_file_name(event, event_dir)\n",
    "\n",
    "    # create .txt\n",
    "    for txt in txt_names:\n",
    "        if event_name in txt:\n",
    "            event_txt_file = txt\n",
    "    \n",
    "    txt_path_and_matching_img_name = out_dir_txt + '/' + \"synthetic_\" + background_name[:-1] + '-' + event_name[:-1] + '.txt'\n",
    "    shutil.copy(event_txt_file, txt_path_and_matching_img_name)\n",
    "    \n",
    "    coordinates = recalculate_normalized_coordinates(event_txt_file)\n",
    "    #print(\" Bckg name: \" + background_name + \" Event name: \" + event_name + \" txt: \" + event_txt_file)\n",
    "    \n",
    "    # Prepare inputs\n",
    "    x, y = int(coordinates[0]), int(coordinates[1])\n",
    "    \n",
    "    # background\n",
    "    img = np.array(Image.open(background))\n",
    "    \n",
    "    # thresholded event\n",
    "    img_overlay_rgba = np.array(Image.open(event))\n",
    "    \n",
    "    # New image name\n",
    "    image_name = out_dir + '/' + background_name[:-1] + '-' + event_name[:-1] + '.jpg'\n",
    "    image_name_len = len(image_name)\n",
    "\n",
    "    # Perform blending\n",
    "    alpha_mask = img_overlay_rgba[:, :, 3] / 255.0\n",
    "    img_result = img[:, :, :3].copy()\n",
    "    img_overlay = img_overlay_rgba[:, :, :3]\n",
    "    overlay_image_alpha(img_result, img_overlay, x, y, alpha_mask, image_name[:image_name_len-4])\n",
    "\n",
    "    # Save result\n",
    "    Image.fromarray(img_result).save(image_name)"
   ]
  },
  {
   "cell_type": "markdown",
   "id": "499341b4-4c10-4ed1-ab9b-f6694706264c",
   "metadata": {},
   "source": [
    "## Náhodná rotácia obrázkov a prepočítanie nových súradníc umiestnenia objektu 🔄\n",
    "\n",
    "Definovanie vstupných a výstupných ciest k adresárom"
   ]
  },
  {
   "cell_type": "code",
   "execution_count": 16,
   "id": "45b1fb98-2ba6-4af0-8e7a-e28fe49a6ab1",
   "metadata": {},
   "outputs": [],
   "source": [
    "in_tp_dir = '/home/jovyan/data/lightning/LiviaMurankova/DATA/new/New_TP/images'\n",
    "in_tp_txt_dir = '/home/jovyan/data/lightning/LiviaMurankova/DATA/new/New_TP/txt'\n",
    "\n",
    "out_randrotated_dir = '/home/jovyan/data/lightning/LiviaMurankova/DATA/new/New_Augmented_Data/New_Random_Rotation/images'\n",
    "out_randrotated_txt_dir = '/home/jovyan/data/lightning/LiviaMurankova/DATA/new/New_Augmented_Data/New_Random_Rotation/txt'"
   ]
  },
  {
   "cell_type": "markdown",
   "id": "76c6ab49-dffe-4d47-be3f-76cbac9d7f3d",
   "metadata": {},
   "source": [
    "Uloženie názvov obrazových a textových súborov z jedného priečinka do premenných"
   ]
  },
  {
   "cell_type": "code",
   "execution_count": null,
   "id": "b4049d37-5c50-47f8-bc5b-1c462e6ce35b",
   "metadata": {},
   "outputs": [],
   "source": [
    "# read TP images into list\n",
    "from glob import glob\n",
    "import random\n",
    "\n",
    "random.seed(1234)\n",
    "\n",
    "tp_infiles = in_tp_dir + '/*'\n",
    "tp_names = glob(tp_infiles)\n",
    "tp_names.remove(in_tp_dir + '/' + 'Thumbs.db')\n",
    "\n",
    "print(len(tp_names))\n",
    "print(random.sample(tp_names, 5))\n",
    "\n",
    "# read txt files for TP images with TLE's normalized coords into list\n",
    "txt_infiles = in_tp_txt_dir + '/*'\n",
    "txt_names = glob(txt_infiles)\n",
    "\n",
    "print(len(txt_names))\n",
    "print(random.sample(txt_names, 5))"
   ]
  },
  {
   "cell_type": "markdown",
   "id": "8815b345-7235-4d96-b28b-1a50b13c1990",
   "metadata": {},
   "source": [
    "**Definovanie vlastných metód**\n",
    "\n",
    "Funkcia na vyselektovanie názvu súboru z celej directory path### My methods"
   ]
  },
  {
   "cell_type": "code",
   "execution_count": 17,
   "id": "7857244d-5d74-412d-ad06-fd28e7344589",
   "metadata": {},
   "outputs": [],
   "source": [
    "# file name without directory path\n",
    "\n",
    "def get_file_name(file_with_directory,directory):\n",
    "    directory_lengt = len(directory) + 1\n",
    "    file_name_length = len(file_with_directory)\n",
    "    return file_with_directory[directory_lengt:file_name_length-4]"
   ]
  },
  {
   "cell_type": "markdown",
   "id": "7cb5c11e-83b9-4f9e-9af5-a440bfbe2aca",
   "metadata": {},
   "source": [
    "Funkcia na konverziu yolo formátu súradníc do knižnice opencv formátu (alebo opačne)"
   ]
  },
  {
   "cell_type": "code",
   "execution_count": 18,
   "id": "f5d5c7de-b2f3-4513-8ff5-f1ab646d46cf",
   "metadata": {},
   "outputs": [],
   "source": [
    "#convert from Yolo_mark to opencv format\n",
    "def yoloFormattocv(x1, y1, x2, y2, H, W):\n",
    "    bbox_width = x2 * W\n",
    "    bbox_height = y2 * H\n",
    "    center_x = x1 * W\n",
    "    center_y = y1 * H\n",
    "\n",
    "    voc = []\n",
    "\n",
    "    voc.append(center_x - (bbox_width / 2))\n",
    "    voc.append(center_y - (bbox_height / 2))\n",
    "    voc.append(center_x + (bbox_width / 2))\n",
    "    voc.append(center_y + (bbox_height / 2))\n",
    "\n",
    "    return [int(v) for v in voc]\n",
    "\n",
    "# convert from opencv format to yolo format\n",
    "# H,W is the image height and width\n",
    "def cvFormattoYolo(corner, H, W):\n",
    "    bbox_W = corner[3] - corner[1]\n",
    "    bbox_H = corner[4] - corner[2]\n",
    "\n",
    "    center_bbox_x = (corner[1] + corner[3]) / 2\n",
    "    center_bbox_y = (corner[2] + corner[4]) / 2\n",
    "\n",
    "    return corner[0], round(center_bbox_x / W, 6), round(center_bbox_y / H, 6), round(bbox_W / W, 6), round(bbox_H / H, 6)"
   ]
  },
  {
   "cell_type": "markdown",
   "id": "b8c7cb3f-d7be-476a-ab36-2386090cf42a",
   "metadata": {},
   "source": [
    "Funkcia, ktorá zabezpečí rotáciu obrázka"
   ]
  },
  {
   "cell_type": "code",
   "execution_count": 19,
   "id": "18a961bf-f7e2-40f0-bf97-8240f1f5c804",
   "metadata": {},
   "outputs": [],
   "source": [
    "def rotate_image(img, ang):\n",
    "        \"\"\"\n",
    "        Rotates an image (angle in degrees) and expands image to avoid cropping\n",
    "        \"\"\"\n",
    "        height, width = img.shape[:2]  # image shape has 3 dimensions\n",
    "        image_center = (width / 2,\n",
    "                        height / 2)  # getRotationMatrix2D needs coordinates in reverse order (width, height) compared to shape\n",
    "\n",
    "        rotation_mat = cv2.getRotationMatrix2D(image_center, ang, 1.)\n",
    "\n",
    "        # rotation calculates the cos and sin, taking absolutes of those.\n",
    "        abs_cos = abs(rotation_mat[0, 0])\n",
    "        abs_sin = abs(rotation_mat[0, 1])\n",
    "\n",
    "        # find the new width and height bounds\n",
    "        bound_w = int(height * abs_sin + width * abs_cos)\n",
    "        bound_h = int(height * abs_cos + width * abs_sin)\n",
    "\n",
    "        # subtract old image center (bringing image back to origin) and adding the new image center coordinates\n",
    "        rotation_mat[0, 2] += bound_w / 2 - image_center[0]\n",
    "        rotation_mat[1, 2] += bound_h / 2 - image_center[1]\n",
    "\n",
    "        # rotate image with the new bounds and translated rotation matrix\n",
    "        rotated_mat = cv2.warpAffine(img, rotation_mat, (bound_w, bound_h))\n",
    "        return rotated_mat"
   ]
  },
  {
   "cell_type": "markdown",
   "id": "9fb7e421-e1cc-449c-b363-8dfc530f350b",
   "metadata": {},
   "source": [
    "Prepočítanie súradníc ohraničujúceho poľa po vykonaní rotácie obrázka"
   ]
  },
  {
   "cell_type": "code",
   "execution_count": 20,
   "id": "7819ad06-257f-441a-8f29-042f19ab69c0",
   "metadata": {},
   "outputs": [],
   "source": [
    "def rotateYolobbox(img, ang, txt, rot_matrix):\n",
    "\n",
    "        new_height, new_width = rotate_image(img, ang).shape[:2]\n",
    "\n",
    "        f = open(txt, 'r')\n",
    "\n",
    "        f1 = f.readlines()\n",
    "\n",
    "        new_bbox = []\n",
    "\n",
    "        H, W = img.shape[:2]\n",
    "\n",
    "        for x in f1:\n",
    "            bbox = x.strip('\\n').split(' ')\n",
    "            if len(bbox) > 1:\n",
    "                (center_x, center_y, bbox_width, bbox_height) = yoloFormattocv(float(bbox[1]), float(bbox[2]),\n",
    "                                                                               float(bbox[3]), float(bbox[4]), H, W)\n",
    "\n",
    "                upper_left_corner_shift = (center_x - W / 2, -H / 2 + center_y)\n",
    "                upper_right_corner_shift = (bbox_width - W / 2, -H / 2 + center_y)\n",
    "                lower_left_corner_shift = (center_x - W / 2, -H / 2 + bbox_height)\n",
    "                lower_right_corner_shift = (bbox_width - W / 2, -H / 2 + bbox_height)\n",
    "\n",
    "                new_lower_right_corner = [-1, -1]\n",
    "                new_upper_left_corner = []\n",
    "\n",
    "                for i in (upper_left_corner_shift, upper_right_corner_shift, lower_left_corner_shift,\n",
    "                          lower_right_corner_shift):\n",
    "                    new_coords = np.matmul(rot_matrix, np.array((i[0], -i[1])))\n",
    "                    x_prime, y_prime = new_width / 2 + new_coords[0], new_height / 2 - new_coords[1]\n",
    "                    if new_lower_right_corner[0] < x_prime:\n",
    "                        new_lower_right_corner[0] = x_prime\n",
    "                    if new_lower_right_corner[1] < y_prime:\n",
    "                        new_lower_right_corner[1] = y_prime\n",
    "\n",
    "                    if len(new_upper_left_corner) > 0:\n",
    "                        if new_upper_left_corner[0] > x_prime:\n",
    "                            new_upper_left_corner[0] = x_prime\n",
    "                        if new_upper_left_corner[1] > y_prime:\n",
    "                            new_upper_left_corner[1] = y_prime\n",
    "                    else:\n",
    "                        new_upper_left_corner.append(x_prime)\n",
    "                        new_upper_left_corner.append(y_prime)\n",
    "                #             print(x_prime, y_prime)\n",
    "\n",
    "                new_bbox.append([bbox[0], new_upper_left_corner[0], new_upper_left_corner[1],\n",
    "                                 new_lower_right_corner[0], new_lower_right_corner[1]])\n",
    "\n",
    "        return new_bbox"
   ]
  },
  {
   "cell_type": "markdown",
   "id": "b2627221-60d0-4ae5-8138-150d0a00d724",
   "metadata": {},
   "source": [
    "**Algoritmus, ktorý zabezpečí náhodnú rotáciu obrázkov a prepočet nových súradníc oraničujúcich polí**"
   ]
  },
  {
   "cell_type": "code",
   "execution_count": 21,
   "id": "ae30b0b4-01a0-4640-96dd-0ab79043ae5d",
   "metadata": {},
   "outputs": [],
   "source": [
    "import numpy as np\n",
    "import cv2\n",
    "import os\n",
    "import random\n",
    "\n",
    "random.seed(1234)"
   ]
  },
  {
   "cell_type": "code",
   "execution_count": null,
   "id": "0369afa6-9a92-4fa1-8285-5f4756496b17",
   "metadata": {},
   "outputs": [],
   "source": [
    "for tp_file in tp_names:\n",
    "    \n",
    "    # get random angle from range <-45,45>\n",
    "    v = 90 * random.random()\n",
    "    angle = int(45 - v)\n",
    "    if v >= 45:\n",
    "        angle = int(v - 90)\n",
    "    elif angle == 0:\n",
    "        angle = 20\n",
    "\n",
    "    # image initialization\n",
    "    image = cv2.imread(tp_file, 1)\n",
    "\n",
    "    # txt initialization\n",
    "    event_name = get_file_name(tp_file, '/home/jovyan/data/lightning/LiviaMurankova/DATA/new/New_TP/images')\n",
    "    for txt in txt_names:\n",
    "        if event_name in txt:\n",
    "            txtfile = txt\n",
    "    print(\"event_name: \" + event_name)\n",
    "    print(\"txtfile: \" + txtfile)\n",
    "\n",
    "    # recalculation of the new yolo box\n",
    "    rotation_angle = angle * np.pi / 180\n",
    "    rot_matrix = np.array([[np.cos(rotation_angle), -np.sin(rotation_angle)], [np.sin(rotation_angle), np.cos(rotation_angle)]])\n",
    "\n",
    "    bbox = rotateYolobbox(image, angle, txtfile, rot_matrix)\n",
    "    new_image = rotate_image(image, angle)\n",
    "\n",
    "    # to write rotateed image to disk\n",
    "    cv2.imwrite('/home/jovyan/data/lightning/LiviaMurankova/DATA/new/New_Augmented_Data/New_Random_Rotation/images/' + 'rotated' + str(angle) + '_' + event_name + '.jpg', new_image)\n",
    "\n",
    "    # to write to txt\n",
    "    new_txt = '/home/jovyan/data/lightning/LiviaMurankova/DATA/new/New_Augmented_Data/New_Random_Rotation/txt/' + 'rotated' + str(angle) + '_' + event_name + '.txt'\n",
    "    for i in bbox:\n",
    "        with open(new_txt, 'a') as fout:\n",
    "            fout.writelines(' '.join(map(str, cvFormattoYolo(i, new_image.shape[0], new_image.shape[1]))))"
   ]
  }
 ],
 "metadata": {
  "kernelspec": {
   "display_name": "Python 3 (ipykernel)",
   "language": "python",
   "name": "python3"
  },
  "language_info": {
   "codemirror_mode": {
    "name": "ipython",
    "version": 3
   },
   "file_extension": ".py",
   "mimetype": "text/x-python",
   "name": "python",
   "nbconvert_exporter": "python",
   "pygments_lexer": "ipython3",
   "version": "3.10.6"
  }
 },
 "nbformat": 4,
 "nbformat_minor": 5
}
