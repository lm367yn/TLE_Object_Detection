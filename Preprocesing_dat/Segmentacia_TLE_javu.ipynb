{
 "cells": [
  {
   "cell_type": "markdown",
   "id": "777ee002-7002-4d43-ac7e-e34246ec9fd3",
   "metadata": {},
   "source": [
    "# Vysegmentovanie TLE objektu z obrázka pomocou metódy prehovanie \n",
    "\n",
    "Inštalácia potrebných knižníc"
   ]
  },
  {
   "cell_type": "code",
   "execution_count": null,
   "id": "ad6dc75f-4701-40af-b8ef-c83e67ad42eb",
   "metadata": {},
   "outputs": [],
   "source": [
    "!pip install opencv-python"
   ]
  },
  {
   "cell_type": "markdown",
   "id": "540d0a73-7eef-417c-8313-355721749603",
   "metadata": {},
   "source": [
    "Import potrebných knižníc"
   ]
  },
  {
   "cell_type": "code",
   "execution_count": null,
   "id": "263fbac6-51a5-4774-9c14-696cc25bb7e1",
   "metadata": {},
   "outputs": [],
   "source": [
    "from glob import glob # return all file paths that match a specific pattern\n",
    "import os             # provides functions for creating and removing a directory (folder)\n",
    "import cv2            # image processing\n",
    "import shutil         # save files locally"
   ]
  },
  {
   "cell_type": "markdown",
   "id": "2e2f466f-3c87-401c-9215-984017878155",
   "metadata": {},
   "source": [
    "### Vystrihnutie objektu z obrázka na základe normovaných YOLO súradníc"
   ]
  },
  {
   "cell_type": "markdown",
   "id": "e19e4001-5eca-410e-8643-303bc59cf476",
   "metadata": {},
   "source": [
    "Vlastná metóda na prepočítanie normovaných súradníc na pôvodný tvar"
   ]
  },
  {
   "cell_type": "code",
   "execution_count": null,
   "id": "67b80772-2efc-4052-9956-ea0b64b4b09f",
   "metadata": {},
   "outputs": [],
   "source": [
    "def recalculate_normalized_coordinates(txt_in_dir):\n",
    "    file = open(txt_in_dir, 'r')\n",
    "    line = file.readline()\n",
    "    file.close()\n",
    "    _, x, y, width, height = line.split()\n",
    "    #type(x)\n",
    "    \n",
    "    # the size of the original image\n",
    "    bg_image = cv2.imread(\"/home/jovyan/data/lightning/LiviaMurankova/DATA/TP/images/TP_20140805_000233_ARBO.jpg\")\n",
    "    bg_h, bg_w, bg_channel = bg_image.shape\n",
    "    #print(bg_h, bg_w, bg_channel)\n",
    "\n",
    "    x=float(x)*bg_w\n",
    "    y=float(y)*bg_h\n",
    "    width=float(width)*bg_w\n",
    "    height=float(height)*bg_h\n",
    "\n",
    "    return [_, x, y, width, height]"
   ]
  },
  {
   "cell_type": "markdown",
   "id": "1e722107-2348-4bab-a8ad-9d6998dcb500",
   "metadata": {},
   "source": [
    "Algoritmus na vystrihnutie objektu z obrázka"
   ]
  },
  {
   "cell_type": "code",
   "execution_count": null,
   "id": "2deac3f0-3f42-4163-b24d-7a7cbdb776ff",
   "metadata": {},
   "outputs": [],
   "source": [
    "imageName=\"TP_2014_Aug_04_225613_ARBO\"\n",
    "\n",
    "anot_out_dir=\"/home/jovyan/data/lightning/LiviaMurankova/DATA/new/New_TP/croped_events\"\n",
    "image = \"/home/jovyan/data/lightning/LiviaMurankova/DATA/new/New_TP/images/\" + imageName + \".jpg\"\n",
    "tpImage_txt_file = \"/home/jovyan/data/lightning/LiviaMurankova/DATA/new/New_TP/txt/\" + imageName + \".txt\"\n",
    "\n",
    "import cv2\n",
    "from glob import glob\n",
    "import random\n",
    "\n",
    "#print(tpImage_txt_file)\n",
    "coordinates = recalculate_normalized_coordinates(tpImage_txt_file)\n",
    "x_center, y_center, box_width, box_height = int(coordinates[1]), int(coordinates[2]), int(coordinates[3]), int(coordinates[4])\n",
    "x1 = int(x_center - box_width/2)\n",
    "y1 = int(y_center - box_height/2)\n",
    "x2 = int(x_center + box_width/2)\n",
    "y2 = int(y_center + box_height/2)\n",
    "#print(x1, y1, x2, y2)\n",
    "\n",
    "img = cv2.imread(image)\n",
    "crop_img = img[y1:y2, x1:x2]\n",
    "\n",
    "annot_path_and_matching_img_name = anot_out_dir + '/' + imageName + '.jpg'\n",
    "#print(annot_path_and_matching_img_name)\n",
    "cv2.imwrite(annot_path_and_matching_img_name, crop_img)"
   ]
  },
  {
   "cell_type": "markdown",
   "id": "f065c963-fc9d-4495-b44f-e88990a650c0",
   "metadata": {},
   "source": [
    "### Vysegmentovanie TLE javu pomocou metódy prahovanie"
   ]
  },
  {
   "cell_type": "code",
   "execution_count": null,
   "id": "ba695346-a0d7-401c-a91e-648e0f183aaa",
   "metadata": {},
   "outputs": [],
   "source": [
    "# defining the paths to the input images and the output images    \n",
    "in_dir = '/home/jovyan/data/lightning/LiviaMurankova/DATA/new/New_TP/cropped_events'\n",
    "out_dir = '/home/jovyan/data/lightning/LiviaMurankova/DATA/new/New_TP/cropped_events_without_background'\n",
    "\n",
    "# read the input image file names with paths into a list\n",
    "infiles = in_dir + '/*'\n",
    "img_names = glob(infiles)\n",
    "\n",
    "# loop over each input image in a for loop\n",
    "for file_name in img_names:\n",
    "    \n",
    "    # read an image and convert to gray image\n",
    "    im_gray = cv2.imread(file_name, 0)\n",
    "    \n",
    "    # image threshold with OTSU thresholding + getting the threshold value\n",
    "    thresh, im_bw = cv2.threshold(im_gray, 0, 255, cv2.THRESH_BINARY_INV + cv2.THRESH_OTSU)\n",
    "    print(\"Thresh: \", thresh)\n",
    "    \n",
    "    if(thresh != 0):\n",
    "    \n",
    "        #print('processing: %s...' % file_name)\n",
    "\n",
    "        # read an input image\n",
    "        src = cv2.imread(file_name, 1)\n",
    "        tmp = cv2.cvtColor(src, cv2.COLOR_BGR2GRAY)\n",
    "\n",
    "        # image threshold according to the detected threshold value\n",
    "        alpha = cv2.threshold(tmp, thresh, 255, cv2.THRESH_BINARY)[1]\n",
    "\n",
    "        # transparent background\n",
    "        b, g, r = cv2.split(src)\n",
    "        rgba = [b, g, r, alpha]\n",
    "        dst = cv2.merge(rgba, 4)\n",
    "\n",
    "        # write the result to disk in the previously created output directory\n",
    "        size = len(os.path.basename(file_name))\n",
    "        name = os.path.basename(file_name)[:size - 3] + 'png'\n",
    "        outfile = out_dir + '/' + name\n",
    "        \n",
    "        # save tresholded image\n",
    "        cv2.imwrite(outfile, dst)"
   ]
  }
 ],
 "metadata": {
  "kernelspec": {
   "display_name": "Python 3 (ipykernel)",
   "language": "python",
   "name": "python3"
  },
  "language_info": {
   "codemirror_mode": {
    "name": "ipython",
    "version": 3
   },
   "file_extension": ".py",
   "mimetype": "text/x-python",
   "name": "python",
   "nbconvert_exporter": "python",
   "pygments_lexer": "ipython3",
   "version": "3.10.6"
  }
 },
 "nbformat": 4,
 "nbformat_minor": 5
}
