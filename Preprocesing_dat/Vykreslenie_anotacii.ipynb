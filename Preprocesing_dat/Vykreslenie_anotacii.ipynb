{
 "cells": [
  {
   "cell_type": "markdown",
   "id": "ebdf3d18-2afc-46b0-b4c5-f1d058f7576f",
   "metadata": {},
   "source": [
    "# Vykreslenie anotácie objektu na snímke\n",
    "\n",
    "**Inštalácia potrebných knižníc**"
   ]
  },
  {
   "cell_type": "code",
   "execution_count": null,
   "id": "ab344058-7b9f-43ec-9b81-6aac258f1d36",
   "metadata": {},
   "outputs": [],
   "source": [
    "!pip install opencv-python"
   ]
  },
  {
   "cell_type": "markdown",
   "id": "a5b134c0-e8c3-43d2-839b-cf99e22b7ae0",
   "metadata": {},
   "source": [
    "### Vykreslenie anotácie na jeden obrázok\n",
    "\n",
    "Import knižníc"
   ]
  },
  {
   "cell_type": "code",
   "execution_count": null,
   "id": "13825ae8-bbd4-4ba2-a060-e904d025f2a1",
   "metadata": {},
   "outputs": [],
   "source": [
    "from PIL import Image\n",
    "import cv2\n",
    "from glob import glob\n",
    "import random"
   ]
  },
  {
   "cell_type": "markdown",
   "id": "02a34f9f-9dd1-44e4-83fc-040285d7711a",
   "metadata": {},
   "source": [
    "Vlastná metóda na prepočet súradníc z YOLO normovaného tvaru"
   ]
  },
  {
   "cell_type": "code",
   "execution_count": null,
   "id": "9742fda5-dea1-442b-b5da-fdcff3532767",
   "metadata": {},
   "outputs": [],
   "source": [
    "def recalculate_normalized_coordinates(txt_in_dir):\n",
    "    file = open(txt_in_dir, 'r')\n",
    "    line = file.readline()\n",
    "    file.close()\n",
    "    _, x, y, width, height = line.split()\n",
    "    #type(x)\n",
    "    \n",
    "    # the size of the original image\n",
    "    bg_image = cv2.imread(\"/home/jovyan/data/lightning/LiviaMurankova/DATA/TP/images/TP_20140805_000233_ARBO.jpg\")\n",
    "    bg_h, bg_w, bg_channel = bg_image.shape\n",
    "    #print(bg_h, bg_w, bg_channel)\n",
    "\n",
    "    x=float(x)*bg_w\n",
    "    y=float(y)*bg_h\n",
    "    width=float(width)*bg_w\n",
    "    height=float(height)*bg_h\n",
    "\n",
    "    return [_, x, y, width, height]"
   ]
  },
  {
   "cell_type": "markdown",
   "id": "af33fd7e-6759-4734-93f2-1a8ef438b78b",
   "metadata": {},
   "source": [
    "Algoritmus na vykreslenie anotácie"
   ]
  },
  {
   "cell_type": "code",
   "execution_count": null,
   "id": "99f85f18-025d-4355-800c-67046f110b75",
   "metadata": {},
   "outputs": [],
   "source": [
    "imageName = \"TP_2021_Jul_30_205744_AGO\"\n",
    "\n",
    "in_image_dir = \"/home/jovyan/data/lightning/LiviaMurankova/DATA/new/New_TP/images/\"\n",
    "in_txt_dir = \"/home/jovyan/data/lightning/LiviaMurankova/DATA/new/New_TP/images/\"\n",
    "anot_out_dir=\"/home/jovyan/data/lightning/LiviaMurankova/DATA/new/New_TP/annotations\"\n",
    "\n",
    "# resize image\n",
    "image = Image.open(in_image_dir + imageName + \".jpg\")\n",
    "new_image = image.resize((1280, 960))\n",
    "new_image.save(in_image_dir + imageName + \".jpg\")\n",
    "\n",
    "# recalculate bbox coordinates\n",
    "tpImage_txt_file = in_txt_dir + imageName + \".txt\"\n",
    "coordinates = recalculate_normalized_coordinates(tpImage_txt_file)\n",
    "x_center, y_center, box_width, box_height = int(coordinates[1]), int(coordinates[2]), int(coordinates[3]), int(coordinates[4])\n",
    "x1 = int(x_center - box_width/2)\n",
    "y1 = int(y_center - box_height/2)\n",
    "x2 = int(x_center + box_width/2)\n",
    "y2 = int(y_center + box_height/2)\n",
    "#print(x1, y1, x2, y2)\n",
    "\n",
    "# draw rectangle\n",
    "img = cv2.imread(new_image)\n",
    "imageCopy = img.copy()\n",
    "cv2.rectangle(imageCopy, (x1, y1), (x2, y2), (0, 255, 0))\n",
    "\n",
    "# save image with annotation\n",
    "annot_path_and_matching_img_name = anot_out_dir + '/' + \"annot_\" + imageName + '.jpg'\n",
    "cv2.imwrite(annot_path_and_matching_img_name, imageCopy)"
   ]
  }
 ],
 "metadata": {
  "kernelspec": {
   "display_name": "Python 3 (ipykernel)",
   "language": "python",
   "name": "python3"
  },
  "language_info": {
   "codemirror_mode": {
    "name": "ipython",
    "version": 3
   },
   "file_extension": ".py",
   "mimetype": "text/x-python",
   "name": "python",
   "nbconvert_exporter": "python",
   "pygments_lexer": "ipython3",
   "version": "3.10.6"
  }
 },
 "nbformat": 4,
 "nbformat_minor": 5
}
