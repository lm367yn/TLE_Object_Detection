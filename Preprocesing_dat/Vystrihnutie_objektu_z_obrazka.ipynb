{
 "cells": [
  {
   "cell_type": "markdown",
   "id": "777ee002-7002-4d43-ac7e-e34246ec9fd3",
   "metadata": {},
   "source": [
    "# Vystrihnutie objektu z obrázka na základe normovaných YOLO súradníc\n",
    "\n",
    "**Inštalácia potrebných knižníc**"
   ]
  },
  {
   "cell_type": "code",
   "execution_count": null,
   "id": "ad6dc75f-4701-40af-b8ef-c83e67ad42eb",
   "metadata": {},
   "outputs": [],
   "source": [
    "!pip install opencv-python"
   ]
  },
  {
   "cell_type": "markdown",
   "id": "e19e4001-5eca-410e-8643-303bc59cf476",
   "metadata": {},
   "source": [
    "Vlastná metóda na prepočítanie normovaných súradníc"
   ]
  },
  {
   "cell_type": "code",
   "execution_count": null,
   "id": "67b80772-2efc-4052-9956-ea0b64b4b09f",
   "metadata": {},
   "outputs": [],
   "source": [
    "def recalculate_normalized_coordinates(txt_in_dir):\n",
    "    file = open(txt_in_dir, 'r')\n",
    "    line = file.readline()\n",
    "    file.close()\n",
    "    _, x, y, width, height = line.split()\n",
    "    #type(x)\n",
    "    \n",
    "    # the size of the original image\n",
    "    bg_image = cv2.imread(\"/home/jovyan/data/lightning/LiviaMurankova/DATA/TP/images/TP_20140805_000233_ARBO.jpg\")\n",
    "    bg_h, bg_w, bg_channel = bg_image.shape\n",
    "    #print(bg_h, bg_w, bg_channel)\n",
    "\n",
    "    x=float(x)*bg_w\n",
    "    y=float(y)*bg_h\n",
    "    width=float(width)*bg_w\n",
    "    height=float(height)*bg_h\n",
    "\n",
    "    return [_, x, y, width, height]"
   ]
  },
  {
   "cell_type": "markdown",
   "id": "1e722107-2348-4bab-a8ad-9d6998dcb500",
   "metadata": {},
   "source": [
    "Algoritmus na vystrihnutie objektu z obrázka"
   ]
  },
  {
   "cell_type": "code",
   "execution_count": null,
   "id": "2deac3f0-3f42-4163-b24d-7a7cbdb776ff",
   "metadata": {},
   "outputs": [],
   "source": [
    "imageName=\"TP_2014_Aug_04_225613_ARBO\"\n",
    "\n",
    "anot_out_dir=\"/home/jovyan/data/lightning/LiviaMurankova/DATA/new/New_TP/croped_events\"\n",
    "image = \"/home/jovyan/data/lightning/LiviaMurankova/DATA/new/New_TP/images/\" + imageName + \".jpg\"\n",
    "tpImage_txt_file = \"/home/jovyan/data/lightning/LiviaMurankova/DATA/new/New_TP/txt/\" + imageName + \".txt\"\n",
    "\n",
    "import cv2\n",
    "from glob import glob\n",
    "import random\n",
    "\n",
    "#print(tpImage_txt_file)\n",
    "coordinates = recalculate_normalized_coordinates(tpImage_txt_file)\n",
    "x_center, y_center, box_width, box_height = int(coordinates[1]), int(coordinates[2]), int(coordinates[3]), int(coordinates[4])\n",
    "x1 = int(x_center - box_width/2)\n",
    "y1 = int(y_center - box_height/2)\n",
    "x2 = int(x_center + box_width/2)\n",
    "y2 = int(y_center + box_height/2)\n",
    "#print(x1, y1, x2, y2)\n",
    "\n",
    "img = cv2.imread(image)\n",
    "crop_img = img[y1:y2, x1:x2]\n",
    "\n",
    "annot_path_and_matching_img_name = anot_out_dir + '/' + imageName + '.jpg'\n",
    "#print(annot_path_and_matching_img_name)\n",
    "cv2.imwrite(annot_path_and_matching_img_name, crop_img)"
   ]
  }
 ],
 "metadata": {
  "kernelspec": {
   "display_name": "Python 3 (ipykernel)",
   "language": "python",
   "name": "python3"
  },
  "language_info": {
   "codemirror_mode": {
    "name": "ipython",
    "version": 3
   },
   "file_extension": ".py",
   "mimetype": "text/x-python",
   "name": "python",
   "nbconvert_exporter": "python",
   "pygments_lexer": "ipython3",
   "version": "3.10.6"
  }
 },
 "nbformat": 4,
 "nbformat_minor": 5
}
