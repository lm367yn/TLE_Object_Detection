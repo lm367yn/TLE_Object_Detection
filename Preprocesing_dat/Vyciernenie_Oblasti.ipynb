{
 "cells": [
  {
   "cell_type": "markdown",
   "id": "dca4d9b1-a295-4d76-8960-77fe6e930ccd",
   "metadata": {},
   "source": [
    "# Vyčiernenie frekventove nesprávne označovaných statických objektov\n",
    "\n",
    "**Inštalácia potrebných knižníc**"
   ]
  },
  {
   "cell_type": "code",
   "execution_count": null,
   "id": "dd437344-5d82-46d1-9e33-4fb1411cf15e",
   "metadata": {},
   "outputs": [],
   "source": [
    "import os\n",
    "import shutil\n",
    "from PIL import Image, ImageDraw"
   ]
  },
  {
   "cell_type": "markdown",
   "id": "d0a29d8d-075e-4171-b27f-2483e6cff947",
   "metadata": {},
   "source": [
    "Algoritmus, ktorý podľa typu AMOS kamery na vopred zadefinované súradnice vykreslí čierne obdĺžniky. \n",
    "Názvy nových súborov (a cestu k ich umiestneniu) uloží do textového súboru."
   ]
  },
  {
   "cell_type": "code",
   "execution_count": null,
   "id": "c78826b2-4596-4f5d-b768-a5cf19bddfd5",
   "metadata": {},
   "outputs": [],
   "source": [
    "years=[\"2016\",\"2017\",\"2018\",\"2019\",\"2020\",\"2021\"]\n",
    "\n",
    "for year in years:\n",
    "    \n",
    "    # source, destination and txt files paths\n",
    "    src = r\"/home/jovyan/data/lightning/LiviaMurankova/DATA/all_years/\" + year\n",
    "    dest = r\"/home/jovyan/data/lightning/LiviaMurankova/DATA/all_years/\" + year + \"_blackened\"\n",
    "    txt_all_files_paths = \"/home/jovyan/data/lightning/LiviaMurankova/YOLOv5/test_\" + year + \"_blackened.txt\"\n",
    "    \n",
    "    # create new txt file for one year\n",
    "    open(txt_all_files_paths, 'w').close()\n",
    "    file = open(txt_all_files_paths,'w')\n",
    "    \n",
    "    # iterate through each file in each year folder\n",
    "    for path, subdirs, files in os.walk(src):\n",
    "        for name in files:\n",
    "            if(name != \".DS_Store\" and (\"-checkpoint\" not in name)):\n",
    "\n",
    "                # join source path with the file name into one string\n",
    "                filename = os.path.join(path, name)\n",
    "                #print(\"filename:\" + filename)                \n",
    "                \n",
    "                if(name[14:-4] == \"VAZEC\" or (name[0:2] == \"TP\" and name[17:-4] == \"VAZEC\")):\n",
    "                    im = Image.open(os.path.join(path, \"%s\" % (name)))\n",
    "                    im1 = ImageDraw.Draw(im)\n",
    "                    im1.rectangle([(255.000192, 0), (340.000128, 43.000032)], outline=\"black\",fill=\"black\")\n",
    "                    im1.rectangle([(1211.99936, 435.99950400000006), (1279.99936, 520.999536)], outline=\"black\",fill=\"black\")\n",
    "                    im1.rectangle([(188.0, 387.00033600000006), (235.99999999999997, 467.00030399999997)], outline=\"black\",fill=\"black\")\n",
    "                    im1.rectangle([(94.99993599999999,223.00017599999998), (134.0,264.000144)], outline=\"black\",fill=\"black\")\n",
    "                    im1.rectangle([(233.00032000000002,874.9998240000001), (386.0 ,959.999856)], outline=\"black\",fill=\"black\")\n",
    "                    im.save(os.path.join(dest, \"%s\" % (year + \"_\" + name)))\n",
    "                    file.write(os.path.join(dest, \"%s\" % (year + \"_\" + name)) + \"\\n\")\n",
    "                if(name[14:-4] == \"AGO\" or (name[0:2] == \"TP\" and name[17:-4] == \"AGO\")):\n",
    "                    im = Image.open(os.path.join(path, \"%s\" % (name)))\n",
    "                    im1 = ImageDraw.Draw(im)\n",
    "                    im1.rectangle([(236.99987200000004, 314.99952 ), (287.99980800000003,401.99952)], outline=\"black\",fill=\"black\")\n",
    "                    im.save(os.path.join(dest, \"%s\" % (year + \"_\" + name)))\n",
    "                    file.write(os.path.join(dest, \"%s\" % (year + \"_\" + name)) + \"\\n\")\n",
    "                if(name[14:-4] == \"Senec\" or (name[0:2] == \"TP\" and name[17:-4] == \"Senec\")):\n",
    "                    im = Image.open(os.path.join(path, \"%s\" % (name)))\n",
    "                    im1 = ImageDraw.Draw(im)\n",
    "                    im1.rectangle([(1172.999808, 357.0), (1207.9998719999999, 393.0)], outline=\"black\",fill=\"black\")\n",
    "                    im1.rectangle([(1131.999552 ,747.0), (1178.999488, 807.0)], outline=\"black\",fill=\"black\")\n",
    "                    im1.rectangle([(164.999808,89.00015999999998), (287.999872, 216.99984)], outline=\"black\",fill=\"black\")\n",
    "                    im.save(os.path.join(dest, \"%s\" % (year + \"_\" + name)))\n",
    "                    file.write(os.path.join(dest, \"%s\" % (year + \"_\" + name)) + \"\\n\")\n",
    "                if(name[14:-4] == \"KNM\" or (name[0:2] == \"TP\" and name[17:-4] == \"KNM\")):\n",
    "                    im = Image.open(os.path.join(path, \"%s\" % (name)))\n",
    "                    im1 = ImageDraw.Draw(im)\n",
    "                    im1.rectangle([(148.999488,2.9999520000000013 ), (185.999552,33.999984)], outline=\"black\",fill=\"black\")\n",
    "                    im1.rectangle([(185.00032000000002, 31.000032 ), (229.00032, 76.000032)], outline=\"black\",fill=\"black\")\n",
    "                    im.save(os.path.join(dest, \"%s\" % (year + \"_\" + name)))\n",
    "                    file.write(os.path.join(dest, \"%s\" % (year + \"_\" + name)) + \"\\n\")\n",
    "                if(name[14:-4] == \"ARBO\" or (name[0:2] == \"TP\" and name[17:-4] == \"ARBO\")):\n",
    "                    im = Image.open(os.path.join(path, \"%s\" % (name)))\n",
    "                    im1 = ImageDraw.Draw(im)\n",
    "                    im1.rectangle([(227.00032 ,111.00048), (275.00032, 168.00048)], outline=\"black\",fill=\"black\")\n",
    "                    im.save(os.path.join(dest, \"%s\" % (year + \"_\" + name)))\n",
    "                    file.write(os.path.join(dest, \"%s\" % (year + \"_\" + name)) + \"\\n\")\n",
    "\n",
    "                    # copy image (file) from old path to the new path\n",
    "                    #shutil.copy2(filename, new_filepath)\n",
    "    file.close()"
   ]
  }
 ],
 "metadata": {
  "kernelspec": {
   "display_name": "Python 3 (ipykernel)",
   "language": "python",
   "name": "python3"
  },
  "language_info": {
   "codemirror_mode": {
    "name": "ipython",
    "version": 3
   },
   "file_extension": ".py",
   "mimetype": "text/x-python",
   "name": "python",
   "nbconvert_exporter": "python",
   "pygments_lexer": "ipython3",
   "version": "3.10.6"
  }
 },
 "nbformat": 4,
 "nbformat_minor": 5
}
