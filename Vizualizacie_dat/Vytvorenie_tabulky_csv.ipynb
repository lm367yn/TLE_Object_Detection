{
 "cells": [
  {
   "cell_type": "markdown",
   "id": "48273347-6eb1-42bc-9eed-9799464a393d",
   "metadata": {},
   "source": [
    "# Vytvorenie výstupného .csv súboru s tabuľkou všetkých detegovaných TLE a ich anotáciami\n",
    "\n",
    "**Inštalácia potrebných knižníc**"
   ]
  },
  {
   "cell_type": "code",
   "execution_count": null,
   "id": "ab251425-8775-42d7-9d6e-6a3f96b026e2",
   "metadata": {},
   "outputs": [],
   "source": [
    "import os\n",
    "import pandas as pd\n",
    "import csv"
   ]
  },
  {
   "cell_type": "code",
   "execution_count": null,
   "id": "4c64bf1b-c7b2-492f-9416-d3767711c630",
   "metadata": {},
   "outputs": [],
   "source": [
    "# assign directory\n",
    "directory = r\"/home/jovyan/data/lightning/LiviaMurankova/YOLOv5/yolov5/runs/detect/model9/predict9_2021_all_blackened_model22_confidence/labels\"\n",
    "csv_directory = \"/home/jovyan/data/lightning/LiviaMurankova/DATA/tables/TP_TLEs_YOLOv5.csv\"\n",
    "\n",
    "# assign header columns\n",
    "headerList = ['File_Name', 'Year', 'Month', 'Day', 'AMOS_Cam', 'X', 'Y', 'Width', 'Height', 'Confidence']\n",
    "  \n",
    "# open CSV file and assign header\n",
    "with open(csv_directory, 'w') as file:\n",
    "    dw = csv.DictWriter(file, delimiter=',', fieldnames=headerList)\n",
    "    dw.writeheader()    \n",
    "\n",
    "count = 1\n",
    "with open(csv_directory, 'w', newline='') as out_file:\n",
    "\n",
    "    writer = csv.writer(out_file)\n",
    "    for filename in sorted(os.listdir(directory)):\n",
    "        if(\"TP_\" in filename):\n",
    "            f = os.path.join(directory, filename)\n",
    "            fname = filename.split(\"_\")\n",
    "            year = fname[1]\n",
    "            month = fname[2]\n",
    "            day = fname[3]\n",
    "            amos = fname[5].split(\".\")[0]\n",
    "            with open(f) as txt_file:\n",
    "                lines = txt_file.readlines()\n",
    "                for line in lines:\n",
    "                    line = line.split(\" \")\n",
    "                    #print(filename, line)\n",
    "                    x = line[1]\n",
    "                    y = line[2]\n",
    "                    width = line[3]\n",
    "                    height = line[4]\n",
    "                    if(\"\\n\" in line[5]):\n",
    "                        confidence = line[5].split(\"\\n\")[0]\n",
    "                    else:\n",
    "                        confidence = line[5]\n",
    "\n",
    "\n",
    "                    writer.writerow((str(count), filename, year, month, day, amos, x, y, width, height, confidence))\n",
    "                count += 1\n",
    "            txt_file.close()\n",
    "\n",
    "out_file.close()\n",
    "  \n",
    "# display csv file\n",
    "fileContent = pd.read_csv(\"/home/jovyan/data/lightning/LiviaMurankova/best_models/TP_YOLOv8.csv\")\n",
    "fileContent"
   ]
  }
 ],
 "metadata": {
  "kernelspec": {
   "display_name": "Python 3 (ipykernel)",
   "language": "python",
   "name": "python3"
  },
  "language_info": {
   "codemirror_mode": {
    "name": "ipython",
    "version": 3
   },
   "file_extension": ".py",
   "mimetype": "text/x-python",
   "name": "python",
   "nbconvert_exporter": "python",
   "pygments_lexer": "ipython3",
   "version": "3.10.6"
  }
 },
 "nbformat": 4,
 "nbformat_minor": 5
}
