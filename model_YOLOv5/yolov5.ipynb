{
 "cells": [
  {
   "cell_type": "markdown",
   "id": "50289be3-e830-48e0-824d-7b9a92b2d3b6",
   "metadata": {},
   "source": [
    "# Automatická detekcia TLE na snímkach AMOS pomocou NN YOLOv5\n",
    "\n",
    "### Príprava prostredia\n",
    "\n",
    "Príkazy na inštaláciu:\n",
    "* potrebných knižníc yolov5, opencv\n",
    "* požiadaviek na yolov5\n",
    "* synchronizácia s open source platformou, ktorá poskytuje UI pre sledovanie ML (machine learning) experimentov"
   ]
  },
  {
   "cell_type": "code",
   "execution_count": 7,
   "id": "46adea93-de51-4757-9e9e-638f9ee377b5",
   "metadata": {},
   "outputs": [],
   "source": [
    "import os\n",
    "if not os.path.exists('yolov5_repo'):\n",
    "    !git clone https://github.com/ultralytics/yolov5"
   ]
  },
  {
   "cell_type": "code",
   "execution_count": null,
   "id": "b8619f4e-e4bb-41c7-bef6-b4985caf75cb",
   "metadata": {},
   "outputs": [],
   "source": [
    "!pip install opencv-python\n",
    "!pip install clearml\n",
    "!pip install -r requirements.txt\n",
    "\n",
    "%env CLEARML_WEB_HOST=https://app.clear.ml\n",
    "%env CLEARML_API_HOST=https://api.clear.ml\n",
    "%env CLEARML_FILES_HOST=https://files.clear.ml\n",
    "%env CLEARML_API_ACCESS_KEY=JAD53FE0NSCTRN9CDXAR\n",
    "%env CLEARML_API_SECRET_KEY=4MMrcYl457nAVZolLxRMF7c3uCyUTkhSm3AQ3CIzvFMlPrbuQb"
   ]
  },
  {
   "cell_type": "markdown",
   "id": "9794eb10-9fa2-4bbe-9722-0b953e4c20b3",
   "metadata": {},
   "source": [
    "### Trénovanie modelu\n",
    "\n",
    "Príkaz na spustenie trénovania\n",
    "\n",
    "* **!python**: volanie súboru programovacieho jazyka Python,\n",
    "* **yolov5/train.py**: definovanie cesty k skriptu jazyka Python, ktorý obsahuje príkazy na trénovanie modelu,\n",
    "* **cfg**: definovanie cesty k modelu, ktorý bol použitý na trénovanie; my sme použili model YOLOv5s,\n",
    "* **data**: parameter obsahuje cestu k YAML súboru, ktorý obsahuje cestu k trénovacím a validačným údajom spolu s názvami tried,\n",
    "* **epochs**: zadanie počtu epoch (tréning neurónovej siete so všetkými tréningovými údajmi pre jeden cyklus),\n",
    "* **batch-size**: počet vzoriek, ktoré sa počas trénovania vložia do jednej série,\n",
    "* **workers**: počet použitých jadier procesora,\n",
    "* **img**: veľkosť obrazu upravená pred jeho vstupom do siete,\n",
    "* **rect**: argument umožní trénovanie obdĺžnikového obrazu,\n",
    "* **save-period**: uloženie každej N epochy,\n",
    "* **name**: názov priečinka, do ktorého sa uložia záznamy o trénovaní,"
   ]
  },
  {
   "cell_type": "code",
   "execution_count": null,
   "id": "e775ffc8-d82b-4a68-ba9e-7feef9c1d94b",
   "metadata": {},
   "outputs": [],
   "source": [
    "!python yolov5_repo/train.py \n",
    "--cfg yolov5_repo/models/yolov5s.yaml \n",
    "--data information_about_data10.yaml \n",
    "--epochs 300 \n",
    "--batch-size 10 \n",
    "--workers 0 \n",
    "--img 1280 \n",
    "--rect \n",
    "--save-period 10 \n",
    "--name=train10_DATA_FOR_YOLO10"
   ]
  },
  {
   "cell_type": "markdown",
   "id": "6f1c4cd2-c86d-40ca-a58b-ad18b4135e0e",
   "metadata": {},
   "source": [
    "### Testovanie modelu\n",
    "\n",
    "Príkaz na spustenie testovania\n",
    "\n",
    "* **!python**: volanie súboru programovacieho jazyka Python,\n",
    "* **yolov5/train.py**: definovanie cesty k skriptu jazyka Python, ktorý obsahuje príkazy na testovanie modelu,\n",
    "* **source**: cesta k textovému súboru so zdrojovými adresami všetkých obrázkov tvoriacich testovaciu sadu,\n",
    "* **img**: veľkosť obrazu upravená pred jeho vstupom do siete,\n",
    "* **iou**: prah priesečníka nad zjednotením (podiel skutočného ohraničujúceho poľa ku predpovedanému),\n",
    "* **conf**: skóre dôveryhodnosti; minimálna pravdepodobnosť, s akou algoritmus správne deteguje objekt,\n",
    "* **save-txt**: príznak na vytvorenie textového súboru s informáciami o zistenom objekte pre každý testovací obrázok, na ktorom model rozpozná objekt\n",
    "* **save-conf**: príznak pre zapísanie skóre dôveryhodnosti detekcie daného objektu na koniec riadku textového súboru\n",
    "* **name**: názov priečinka, do ktorého sa uložia záznamy o testovaní,"
   ]
  },
  {
   "cell_type": "code",
   "execution_count": null,
   "id": "b1361446-c645-4153-b34f-b817adc683fb",
   "metadata": {},
   "outputs": [],
   "source": [
    "!python yolov5_repo/detect.py \n",
    "--weights ./yolov5_repo/runs/train/train10_DATA_FOR_YOLO10/weights/best.pt \n",
    "--source ./DATA_SPLIT_FOR_YOLO10/test/images\n",
    "--iou 0.30 \n",
    "--conf 0.45 \n",
    "--img 1280 \n",
    "--save-txt \n",
    "--save-conf \n",
    "--name=predict10_DATA_FOR_YOLO10"
   ]
  }
 ],
 "metadata": {
  "kernelspec": {
   "display_name": "Python 3 (ipykernel)",
   "language": "python",
   "name": "python3"
  },
  "language_info": {
   "codemirror_mode": {
    "name": "ipython",
    "version": 3
   },
   "file_extension": ".py",
   "mimetype": "text/x-python",
   "name": "python",
   "nbconvert_exporter": "python",
   "pygments_lexer": "ipython3",
   "version": "3.10.6"
  }
 },
 "nbformat": 4,
 "nbformat_minor": 5
}
