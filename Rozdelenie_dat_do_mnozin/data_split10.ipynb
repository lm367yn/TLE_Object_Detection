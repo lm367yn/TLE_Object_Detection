{
 "cells": [
  {
   "cell_type": "markdown",
   "id": "2e0a0643-836c-4b9c-91c0-2cbdd271e866",
   "metadata": {},
   "source": [
    "# Rozdelenie dát do trénovacej, validačnej a testovacej množiny\n",
    "\n",
    "* Množiny musia byť navzájom disjunktné\n",
    "* ak má niektorá snímka kópie, musia byť v rovnakej množine ako pôvodný obrázok\n",
    "* **TP**: pôvodné obrázky\n",
    "* **hf**: horizontálne prevrátené obrázky\n",
    "* **vf**: vertikálne prevrátené obrázky\n",
    "* **syn**: syntetické obrázky, ktoré vznikli umiestneným TLE javu na iný obrázok\n",
    "* **rot**: rotované obrázky\n",
    "* **TN**: obrázky bez výskytu TLE\n",
    "\n",
    "### Výsledné rozdelenie dát"
   ]
  },
  {
   "cell_type": "markdown",
   "id": "4d5432a2-0e75-4e12-a981-fc0cf71c7960",
   "metadata": {},
   "source": [
    "|                    |  **TP**  | **hf** | **vf** | **syn**| **rot** | **TN** | **Num. of images** | **%** |\n",
    "|--------------------|----------|--------|--------|--------|---------|--------|--------------------|-------|\n",
    "| **Training Set**   |    399   |  399   |  399   |   374  |   399   |  100   |        2070        | 76.2  |\n",
    "| **Validation Set** |     47   |   47   |   47   |   45   |    47   |  0     |        233         | 8.6  |\n",
    "| **Testing Set**    |    14    |    0   |    0   |    0   |    0    |  400   |        414         | 15.3  |\n",
    "| **SUMMARY**        |  **460** |**460** |**460** |**419** | **460** |**500** |      **2717**      |**100**|\n",
    "\n",
    "### Načítanie knižníc"
   ]
  },
  {
   "cell_type": "code",
   "execution_count": 49,
   "id": "3b6d1e53-341f-4f5e-aae6-47b8ae033fea",
   "metadata": {
    "tags": []
   },
   "outputs": [],
   "source": [
    "import os\n",
    "import random\n",
    "import shutil"
   ]
  },
  {
   "cell_type": "markdown",
   "id": "d329a61e-9151-4b86-8a60-4a1952e36dbc",
   "metadata": {},
   "source": [
    "### Načítanie názvov obrázkov a .txt súborov do premenných"
   ]
  },
  {
   "cell_type": "code",
   "execution_count": null,
   "id": "3f258f1d-8baa-4ecd-831d-b0ed8f9e68cd",
   "metadata": {},
   "outputs": [],
   "source": [
    "directory = \"/home/jovyan/data/lightning/LiviaMurankova/DATA/new/\"\n",
    "lists_folders = [\"New_TP\",\"New_Horizontal_Flip\",\"New_Vertical_Flip\",\"New_Synthetic_Data\",\"New_Random_Rotation\",\"TN\"]\n",
    "\n",
    "image_lists = {\"TP_images\": [], \"hf_images\": [], \"vf_images\": [], \"syn_images\": [], \"rot_images\": [], \"TN_images\": []}\n",
    "txt_lists = {\"TP_txt\": [], \"hf_txt\": [], \"vf_txt\": [], \"syn_txt\": [], \"rot_txt\": []}\n",
    "types = [\"images\",\"txt\"]\n",
    "\n",
    "tmp_i = []\n",
    "tmp_t = []\n",
    "for i, list_name in enumerate(lists_folders):\n",
    "    for j in types:\n",
    "        print(f\"{directory}{list_name}/\"+j)\n",
    "        if j == \"images\":\n",
    "            list_i = os.listdir(f\"{directory}{list_name}/\"+j)\n",
    "            list_i = list(filter(lambda x: '.jpg' in x, list_i))\n",
    "            tmp_i.append(list_i)\n",
    "        elif ((j == \"txt\") and (list_name != \"TN\")):\n",
    "            list_t = os.listdir(f\"{directory}{list_name}/\"+j)\n",
    "            list_t = list(filter(lambda x: '.txt' in x, list_t))\n",
    "            tmp_t.append(list_t)\n",
    "\n",
    "for dictionary in [image_lists, txt_lists]:\n",
    "    i=0\n",
    "    for key in dictionary.keys():\n",
    "        if dictionary == image_lists:\n",
    "            dictionary[key] = tmp_i[i]\n",
    "        elif dictionary == txt_lists:\n",
    "            dictionary[key] = tmp_t[i]\n",
    "        i+=1"
   ]
  },
  {
   "cell_type": "markdown",
   "id": "b3cd0221-7c3e-48c4-b929-31779c2ec15f",
   "metadata": {},
   "source": [
    "### Počty súborov v jednotlivých priečinkoch"
   ]
  },
  {
   "cell_type": "code",
   "execution_count": null,
   "id": "ff337496-713c-4942-b21d-6510c58e9448",
   "metadata": {},
   "outputs": [],
   "source": [
    "for dictionary in [image_lists, txt_lists]:\n",
    "    for x, y in dictionary.items():\n",
    "        print(str(x) + \" : \" + str(len(y)))"
   ]
  },
  {
   "cell_type": "markdown",
   "id": "cc83e1d9-9203-4a2a-913e-2a2ad29723ff",
   "metadata": {},
   "source": [
    "### Rozdelenie TP na originály a kópie"
   ]
  },
  {
   "cell_type": "code",
   "execution_count": null,
   "id": "6012d1ef-2a5a-473e-928a-fab398cf7f0f",
   "metadata": {},
   "outputs": [],
   "source": [
    "# rozdelenie TP na originaly a kopie\n",
    "\n",
    "TP_copies=[]\n",
    "TP_original=[]\n",
    "for item in image_lists[\"TP_images\"]:\n",
    "    if \"copy\" in item:\n",
    "        TP_copies.append(item)\n",
    "    elif \"copy\" not in item:\n",
    "        TP_original.append(item)\n",
    "print(len(TP_copies))\n",
    "print(len(TP_original))\n",
    "random.sample(image_lists[\"TP_images\"], 5)"
   ]
  },
  {
   "cell_type": "markdown",
   "id": "cd051f75-fe98-48a1-993a-bb5f311df024",
   "metadata": {},
   "source": [
    "### Priradenie kópií k vybraným tp"
   ]
  },
  {
   "cell_type": "code",
   "execution_count": null,
   "id": "3bc66a6d-a52f-49df-8dce-ead23e9b9b33",
   "metadata": {},
   "outputs": [],
   "source": [
    "# priradenie kopii k vybranym tp\n",
    "valid_images = random.sample(TP_original, 52)\n",
    "\n",
    "# add copies, if needed\n",
    "for item in valid_images:\n",
    "    for copy in TP_copies:\n",
    "        if((item[:-4] in copy) and (copy not in valid_images)):\n",
    "            valid_images.append(copy) \n",
    "print(valid_images)\n",
    "print(len(valid_images))"
   ]
  },
  {
   "cell_type": "markdown",
   "id": "502ef28b-a8d7-49e5-af6d-702ea7323fd1",
   "metadata": {},
   "source": [
    "### Validačná množina"
   ]
  },
  {
   "cell_type": "code",
   "execution_count": null,
   "id": "93cfae1a-c59c-4a74-9907-5afee765aaae",
   "metadata": {},
   "outputs": [],
   "source": [
    "# validation set\n",
    "\n",
    "directory = \"/home/jovyan/data/lightning/LiviaMurankova/DATA/new/\"\n",
    "dest_directory = \"/home/jovyan/data/lightning/LiviaMurankova/YOLOv8/DATA_SPLIT_FOR_YOLO10/\"\n",
    "\n",
    "# select random 67 TP images\n",
    "valid_images = random.sample(TP_original, 42)\n",
    "\n",
    "# add copies, if needed\n",
    "for item in valid_images:\n",
    "    for copy in TP_copies:\n",
    "        if((item[:-4] in copy) and (copy not in valid_images)):\n",
    "            valid_images.append(copy)           \n",
    "        \n",
    "\n",
    "# create file with image names and copy images to YOLO valid dataset\n",
    "open('/home/jovyan/data/lightning/LiviaMurankova/YOLOv8/valid_dataset10.txt', 'w').close()\n",
    "file = open('/home/jovyan/data/lightning/LiviaMurankova/YOLOv8/valid_dataset10.txt','w')\n",
    "for item in valid_images:\n",
    "    file.write(dest_directory + \"val/images/\" + item + \"\\n\")\n",
    "    shutil.copy(f\"{directory}\" + \"New_TP/images/\" + item, dest_directory + \"val/images/\" + item)\n",
    "    shutil.copy(f\"{directory}\" + \"New_TP/txt/\" + item.split(\".\")[0] + \".txt\", dest_directory + \"val/labels/\" + item.split(\".\")[0] + \".txt\")\n",
    "\n",
    "    event_name = item[3:-3]\n",
    "    keys_i = [\"hf_images\", \"vf_images\", \"syn_images\", \"rot_images\"]\n",
    "    for key in keys_i:\n",
    "        for image in image_lists.get(key):    \n",
    "            if(event_name in image):\n",
    "                file.write(dest_directory + \"val/images/\" + image + \"\\n\")\n",
    "                if(key == \"hf_images\"):\n",
    "                    shutil.copy(f\"{directory}\" + \"New_Horizontal_Flip/images/\" + image, dest_directory + \"val/images/\" + image)\n",
    "                elif(key == \"vf_images\"):\n",
    "                    shutil.copy(f\"{directory}\" + \"New_Vertical_Flip/images/\" + image, dest_directory + \"val/images/\" + image)\n",
    "                elif(key == \"syn_images\"):\n",
    "                    shutil.copy(f\"{directory}\" + \"New_Synthetic_Data/images/\" + image, dest_directory + \"val/images/\" + image)\n",
    "                elif(key == \"rot_images\"):\n",
    "                    shutil.copy(f\"{directory}\" + \"New_Random_Rotation/images/\" + image, dest_directory + \"val/images/\" + image)\n",
    "                #print(\"IMAGE : \" + image)\n",
    "                \n",
    "    keys_t = [\"hf_txt\", \"vf_txt\", \"syn_txt\", \"rot_txt\"]\n",
    "    for key in keys_t:\n",
    "        for txt in txt_lists.get(key):\n",
    "            if(event_name in txt):\n",
    "                if(key == \"hf_txt\"):\n",
    "                    shutil.copy(f\"{directory}\" + \"New_Horizontal_Flip/txt/\" + txt, dest_directory + \"val/labels/\" + txt)\n",
    "                elif(key == \"vf_txt\"):\n",
    "                    shutil.copy(f\"{directory}\" + \"New_Vertical_Flip/txt/\" + txt, dest_directory + \"val/labels/\" + txt)\n",
    "                elif(key == \"syn_txt\"):\n",
    "                    shutil.copy(f\"{directory}\" + \"New_Synthetic_Data/txt/\" + txt, dest_directory + \"val/labels/\" + txt)\n",
    "                elif(key == \"rot_txt\"):\n",
    "                    shutil.copy(f\"{directory}\" + \"New_Random_Rotation/txt/\" + txt, dest_directory + \"val/labels/\" + txt)\n",
    "file.close()\n",
    "\n",
    "# remove choosen images from the TP_images list\n",
    "image_lists[\"TP_images\"] = set(image_lists[\"TP_images\"]) - set(valid_images)\n",
    "print(\"num. of TP: \" + str(len(image_lists[\"TP_images\"])))"
   ]
  },
  {
   "cell_type": "markdown",
   "id": "eb7b0eaf-ba69-40e3-8c55-ba738105ed46",
   "metadata": {},
   "source": [
    "### Testovacia množina"
   ]
  },
  {
   "cell_type": "code",
   "execution_count": null,
   "id": "1e168a03-1a11-44d1-9a59-114421307e45",
   "metadata": {},
   "outputs": [],
   "source": [
    "# test set\n",
    "# 14 pozit na 400 negat\n",
    "\n",
    "# select random 14 (TP) + 317 (TN) images\n",
    "tp_select = random.sample(image_lists[\"TP_images\"], 14)\n",
    "tn_select = random.sample(image_lists[\"TN_images\"], 400)\n",
    "test_images = tp_select + tn_select\n",
    "\n",
    "# add copies, if needed\n",
    "for item in test_images:\n",
    "    for copy in TP_copies:\n",
    "        if((item[0:2] == \"TP\") and (item[:-4] in copy) and (copy not in test_images)):\n",
    "            test_images.append(copy) \n",
    "\n",
    "# create file with image names and copy images to YOLO valid dataset\n",
    "open('/home/jovyan/data/lightning/LiviaMurankova/YOLOv8/test_dataset10.txt', 'w').close()\n",
    "file = open('/home/jovyan/data/lightning/LiviaMurankova/YOLOv8/test_dataset10.txt','w')\n",
    "for item in test_images:\n",
    "    file.write(dest_directory + \"test/images/\" + item + \"\\n\")\n",
    "    if item[0:2] == \"TP\":\n",
    "        shutil.copy(f\"{directory}\" + \"New_TP/images/\" + item, dest_directory + \"test/images/\" + item)\n",
    "        #shutil.copy(f\"{directory}\" + \"TP/txt/\" + item.split(\".\")[0] + \".txt\", dest_directory + \"test/labels/\" + item.split(\".\")[0] + \".txt\")\n",
    "    else:\n",
    "        shutil.copy(f\"{directory}\" + \"TN/images/\" + item, dest_directory + \"test/images/\" + item)        \n",
    "file.close()\n",
    "\n",
    "# remove choosen images from the TP_images list\n",
    "image_lists[\"TP_images\"] = set(image_lists[\"TP_images\"]) - set(tp_select)\n",
    "image_lists[\"TN_images\"] = set(image_lists[\"TN_images\"]) - set(tn_select)\n",
    "print(\"num. of TP: \" + str(len(image_lists[\"TP_images\"])))\n",
    "print(\"num. of TN: \" + str(len(image_lists[\"TN_images\"])))"
   ]
  },
  {
   "cell_type": "markdown",
   "id": "862ad235-faba-4685-8066-25b27ca73189",
   "metadata": {},
   "source": [
    "### Trénovacia množina"
   ]
  },
  {
   "cell_type": "code",
   "execution_count": null,
   "id": "3c47c6e4-53d5-4e53-9dec-8fdb90c82121",
   "metadata": {},
   "outputs": [],
   "source": [
    "# train set\n",
    "\n",
    "directory = \"/home/jovyan/data/lightning/LiviaMurankova/DATA/new/\"\n",
    "dest_directory = \"/home/jovyan/data/lightning/LiviaMurankova/YOLOv8/DATA_SPLIT_FOR_YOLO10/\"\n",
    "\n",
    "train_images=[]\n",
    "# select random 379 TP images\n",
    "for item in image_lists[\"TP_images\"]:\n",
    "    if((item not in test_images) and (item not in valid_images)):\n",
    "        train_images.append(item)\n",
    "\n",
    "#train_images = random.sample(image_lists[\"TP_images\"], 379)\n",
    "tn_train_images = random.sample(image_lists[\"TN_images\"], 100)\n",
    "\n",
    "# create file with image names and copy images to YOLO valid dataset\n",
    "open('/home/jovyan/data/lightning/LiviaMurankova/YOLOv8/train_dataset10.txt', 'w').close()\n",
    "file = open('/home/jovyan/data/lightning/LiviaMurankova/YOLOv8/train_dataset10.txt','w')\n",
    "for item in train_images:\n",
    "    file.write(dest_directory + \"train/images/\" + item + \"\\n\")\n",
    "    shutil.copy(f\"{directory}\" + \"New_TP/images/\" + item, dest_directory + \"train/images/\" + item)\n",
    "    shutil.copy(f\"{directory}\" + \"New_TP/txt/\" + item.split(\".\")[0] + \".txt\", dest_directory + \"train/labels/\" + item.split(\".\")[0] + \".txt\")\n",
    "    \n",
    "    event_name = item[3:-3]\n",
    "    keys_i = [\"hf_images\", \"vf_images\", \"syn_images\", \"rot_images\"]\n",
    "    for key in keys_i:\n",
    "        for image in image_lists.get(key):    \n",
    "            if(event_name in image):\n",
    "                file.write(dest_directory + \"train/images/\" + image + \"\\n\")\n",
    "                if(key == \"hf_images\"):\n",
    "                    shutil.copy(f\"{directory}\" + \"New_Horizontal_Flip/images/\" + image, dest_directory + \"train/images/\" + image)\n",
    "                elif(key == \"vf_images\"):\n",
    "                    shutil.copy(f\"{directory}\" + \"New_Vertical_Flip/images/\" + image, dest_directory + \"train/images/\" + image)\n",
    "                elif(key == \"syn_images\"):\n",
    "                    shutil.copy(f\"{directory}\" + \"New_Synthetic_Data/images/\" + image, dest_directory + \"train/images/\" + image)\n",
    "                elif(key == \"rot_images\"):\n",
    "                    shutil.copy(f\"{directory}\" + \"New_Random_Rotation/images/\" + image, dest_directory + \"train/images/\" + image)\n",
    "                #print(\"IMAGE : \" + image)\n",
    "                \n",
    "    keys_t = [\"hf_txt\", \"vf_txt\", \"syn_txt\", \"rot_txt\"]\n",
    "    for key in keys_t:\n",
    "        for txt in txt_lists.get(key):\n",
    "            if(event_name in txt):\n",
    "                if(key == \"hf_txt\"):\n",
    "                    shutil.copy(f\"{directory}\" + \"New_Horizontal_Flip/txt/\" + txt, dest_directory + \"train/labels/\" + txt)\n",
    "                elif(key == \"vf_txt\"):\n",
    "                    shutil.copy(f\"{directory}\" + \"New_Vertical_Flip/txt/\" + txt, dest_directory + \"train/labels/\" + txt)\n",
    "                elif(key == \"syn_txt\"):\n",
    "                    shutil.copy(f\"{directory}\" + \"New_Synthetic_Data/txt/\" + txt, dest_directory + \"train/labels/\" + txt)\n",
    "                elif(key == \"rot_txt\"):\n",
    "                    shutil.copy(f\"{directory}\" + \"New_Random_Rotation/txt/\" + txt, dest_directory + \"train/labels/\" + txt)\n",
    "                #print(\"TXT : \" + txt)\n",
    "for item in tn_train_images:\n",
    "    file.write(dest_directory + \"train/images/\" + item + \"\\n\")\n",
    "    shutil.copy(f\"{directory}\" + \"TN/images/\" + item, dest_directory + \"train/images/\" + item)     \n",
    "file.close()\n",
    "\n",
    "# remove choosen images from the TP_images list\n",
    "image_lists[\"TP_images\"] = set(image_lists[\"TP_images\"]) - set(train_images)\n",
    "print(\"num. of TP: \" + str(len(image_lists[\"TP_images\"])))\n",
    "\n",
    "image_lists[\"TN_images\"] = set(image_lists[\"TN_images\"]) - set(tn_train_images)\n",
    "print(\"num. of TN: \" + str(len(image_lists[\"TN_images\"])))"
   ]
  }
 ],
 "metadata": {
  "kernelspec": {
   "display_name": "Python 3 (ipykernel)",
   "language": "python",
   "name": "python3"
  },
  "language_info": {
   "codemirror_mode": {
    "name": "ipython",
    "version": 3
   },
   "file_extension": ".py",
   "mimetype": "text/x-python",
   "name": "python",
   "nbconvert_exporter": "python",
   "pygments_lexer": "ipython3",
   "version": "3.10.6"
  }
 },
 "nbformat": 4,
 "nbformat_minor": 5
}
